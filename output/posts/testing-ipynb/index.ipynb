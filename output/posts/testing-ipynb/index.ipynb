{
 "cells": [
  {
   "cell_type": "markdown",
   "id": "sensitive-occasion",
   "metadata": {},
   "source": [
    "Write your post here."
   ]
  }
 ],
 "metadata": {
  "kernelspec": {
   "display_name": "Python 3",
   "env": {},
   "interrupt_mode": "signal",
   "language": "python",
   "metadata": {},
   "name": "python3"
  },
  "nikola": {
   "category": "",
   "date": "2021-01-26 22:08:04 UTC-08:00",
   "description": "",
   "link": "",
   "slug": "testing-ipynb",
   "tags": "",
   "title": "testing ipynb",
   "type": "text"
  }
 },
 "nbformat": 4,
 "nbformat_minor": 5
}
